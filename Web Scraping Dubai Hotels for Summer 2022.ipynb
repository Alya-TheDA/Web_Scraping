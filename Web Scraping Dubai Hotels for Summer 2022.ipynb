{
 "cells": [
  {
   "cell_type": "markdown",
   "id": "8d75e9af",
   "metadata": {},
   "source": [
    "# Web Scraping  Google Maps to Plan For an Upcoming Summer Trip !"
   ]
  },
  {
   "cell_type": "markdown",
   "id": "cc12b03b",
   "metadata": {},
   "source": [
    "User Preferences:"
   ]
  },
  {
   "cell_type": "markdown",
   "id": "298b035e",
   "metadata": {},
   "source": [
    "- Search Dubai City"
   ]
  },
  {
   "cell_type": "markdown",
   "id": "e6f3ebc3",
   "metadata": {},
   "source": [
    "- Dates (sep 25th - Oct 1st)"
   ]
  },
  {
   "cell_type": "markdown",
   "id": "6ce35f4e",
   "metadata": {},
   "source": [
    "- 5 star rating"
   ]
  },
  {
   "cell_type": "markdown",
   "id": "97eee89a",
   "metadata": {},
   "source": [
    "- Property has a pool"
   ]
  },
  {
   "cell_type": "markdown",
   "id": "1dc88b04",
   "metadata": {},
   "source": [
    "- Propertry located in the Dubai Marina area"
   ]
  },
  {
   "cell_type": "code",
   "execution_count": 22,
   "id": "0590280d",
   "metadata": {},
   "outputs": [
    {
     "name": "stderr",
     "output_type": "stream",
     "text": [
      "C:\\Users\\alya2\\AppData\\Local\\Temp\\ipykernel_19684\\2651051872.py:11: DeprecationWarning: executable_path has been deprecated, please pass in a Service object\n",
      "  driver = webdriver.Chrome(\"C:\\chromedriver_win32\\chromedriver\")\n"
     ]
    }
   ],
   "source": [
    "from selenium import webdriver\n",
    "from selenium.webdriver.support.ui import WebDriverWait\n",
    "from selenium.webdriver.common.by import By\n",
    "from selenium.webdriver.support import expected_conditions as EC\n",
    "from selenium.webdriver.common.action_chains import ActionChains\n",
    "from asyncio import sleep\n",
    "import time\n",
    "\n",
    "options = webdriver.ChromeOptions()\n",
    "options.add_argument('headless')\n",
    "driver = webdriver.Chrome(\"C:\\chromedriver_win32\\chromedriver\")\n",
    "wait = WebDriverWait(driver, 10)\n",
    "driver.get(\"https://www.google.com/maps\")\n",
    "\n",
    "# maximize browser window\n",
    "driver.maximize_window()\n",
    "# transelate page into english\n",
    "\n",
    "time.sleep(5)\n",
    "# menu button\n",
    "wait.until(EC.element_to_be_clickable((By.XPATH,\"\"\"//*[@id=\"omnibox-singlebox\"]/div[1]/div[1]/button\"\"\"))).click()\n",
    "\n",
    "time.sleep(2)\n",
    "# language button\n",
    "wait.until(EC.element_to_be_clickable((By.XPATH,\"\"\"//*[@id=\"settings\"]/div/div[2]/ul/div[7]/li[1]\"\"\"))).click()\n",
    "# English \n",
    "wait.until(EC.element_to_be_clickable((By.XPATH,\"\"\"//*[@id=\"languages\"]/div/div[2]/div[1]/ul/li/a\"\"\"))).click()\n",
    "\n",
    "\n",
    "time.sleep(2)\n",
    "\n",
    "# search for Dubai city \n",
    "wait.until(EC.element_to_be_clickable((By.ID, \"searchboxinput\"))).send_keys(\"Dubai\")\n",
    "wait.until(EC.element_to_be_clickable((By.ID, \"searchbox-searchbutton\"))).click()\n",
    "time.sleep(5)\n",
    "\n",
    "\n",
    "# filter by hotels\n",
    "action = ActionChains(driver)\n",
    "wait.until(EC.element_to_be_clickable((By.XPATH,\"\"\"//*[@id=\"assistive-chips\"]/div/div/div/div[1]/div/div/div/div/div[5]/div[2]/div[2]/div/button\"\"\"))).click()\n",
    "\n",
    "\n",
    "time.sleep(2)\n",
    "# select arrival date:\n",
    "\n",
    "# click on dates selector box\n",
    "wait.until(EC.element_to_be_clickable((By.XPATH,\"\"\"//*[@id=\"QA0Szd\"]/div/div/div[1]/div[2]/div/div[1]/div/div/div[2]/div[1]/div[1]/div[1]/div[2]/span\"\"\"))).click()\n",
    "# select Arrival date sep 1st 2022\n",
    "wait.until(EC.element_to_be_clickable((By.XPATH,\"\"\"//*[@id=\":s\"]\"\"\"))).click()\n",
    "\n",
    "# select departure date sep 8th 2022\n",
    "wait.until(EC.element_to_be_clickable((By.XPATH,\"\"\"//*[@id=\":24\"]\"\"\"))).click()\n",
    "\n",
    "\n",
    "time.sleep(5)\n",
    "# Expand top menu options\n",
    "wait.until(EC.element_to_be_clickable((By.XPATH,\"\"\"//*[@id=\"assistive-chips\"]/div/div/div/div[1]/div/div/div/div/div[6]/button/div\"\"\"))).click()\n",
    "\n",
    "time.sleep(2)\n",
    "# select All filters\n",
    "wait.until(EC.element_to_be_clickable((By.XPATH,\"\"\"//*[@id=\"assistive-chips\"]/div/div/div/div[1]/div/div/div/div/div[5]/div[2]/div[8]/div/button\"\"\"))).click()\n",
    "time.sleep(2)\n",
    "\n",
    "# select hotel rating\n",
    "wait.until(EC.element_to_be_clickable((By.XPATH,\"\"\"//*[@id=\"QA0Szd\"]/div/div/div[1]/div[2]/div/div[1]/div/div/div[2]/div[4]/div[2]/div[4]\"\"\"))).click()\n",
    "\n",
    "# select pool option\n",
    "time.sleep(7)\n",
    "wait.until(EC.element_to_be_clickable((By.XPATH,\"\"\"//*[@id=\"QA0Szd\"]/div/div/div[1]/div[2]/div/div[1]/div/div/div[2]/div[6]/div[2]/div[3]\"\"\"))).click()\n",
    "\n",
    "time.sleep(5)\n",
    "# scroll down to Neighborhoods\n",
    "neighborhoods=driver.find_element(By.XPATH,\"\"\"//*[@id=\"QA0Szd\"]/div/div/div[1]/div[2]/div/div[1]/div/div/div[2]/div[11]/div[1]\"\"\")\n",
    "action.scroll_to_element(neighborhoods).perform()\n",
    "\n",
    "time.sleep(6)\n",
    "# select Dubai Marina\n",
    "wait.until(EC.element_to_be_clickable((By.XPATH,\"\"\"//*[@id=\"QA0Szd\"]/div/div/div[1]/div[2]/div/div[1]/div/div/div[2]/div[11]/div[1]/div[1]\"\"\"))).click()\n",
    "\n",
    "# execute search selections ( hit Done button )\n",
    "time.sleep(7)\n",
    "wait.until(EC.element_to_be_clickable((By.XPATH,\"\"\"//*[@id=\"QA0Szd\"]/div/div/div[1]/div[2]/div/div[1]/div/div/div[1]/div[3]/button[2]/div\"\"\"))).click()\n",
    "\n",
    "# grab output\n",
    "time.sleep(7)\n",
    "search=driver.find_element(By.XPATH,\"\"\"//*[@id=\"QA0Szd\"]/div/div\"\"\")\n",
    "time.sleep(5)\n",
    "search_results=search.find_elements(By.XPATH,\"\"\"//*[@id=\"QA0Szd\"]/div/div/div[1]/div[2]/div/div[1]/div/div/div[3]\"\"\")\n",
    "\n",
    "\n",
    "#for item in search_results:\n",
    "#    print(item.text)"
   ]
  },
  {
   "cell_type": "markdown",
   "id": "e21b9ed5",
   "metadata": {},
   "source": [
    "# Set up Text Manipulations"
   ]
  },
  {
   "cell_type": "code",
   "execution_count": 23,
   "id": "45e67754",
   "metadata": {},
   "outputs": [],
   "source": [
    "import re\n",
    "import pandas as pd"
   ]
  },
  {
   "cell_type": "code",
   "execution_count": 24,
   "id": "d2c80787",
   "metadata": {},
   "outputs": [
    {
     "data": {
      "text/plain": [
       "'Sort by\\nTravel restricted\\nThere is a government travel restriction for this destination related to coronavirus (COVID-19). Learn more\\nSofitel Dubai Jumeirah Beach\\n4.6(6,047)\\n5-star hotel\\nLuxe lodging with dining & a pool\\nSAR 827\\n  Pool\\nSpa\\nFree parking\\nFree Wi-Fi\\n  Popular with guests from Saudi Arabia\\nMövenpick Hotel Jumeirah Beach\\n4.4(4,151)\\n5-star hotel\\nModern high-rise with 2 bars & a pool\\nSAR 631\\n  Pool\\nSpa\\nFree parking\\nFree Wi-Fi\\n  Popular with guests from Saudi Arabia\\n  JA Ocean View Hotel\\n4.5(3,056)\\n5-star hotel\\nChic lodging with dining & a spa\\nSAR 658\\n  Pool\\nSpa\\nFree parking\\nFree Wi-Fi\\nHilton Dubai Jumeirah\\n4.5(2,899)\\n5-star hotel\\nSAR 806\\n  Pool\\nSpa\\nFree parking\\nFree Wi-Fi\\n  Address Dubai Marina\\n4.7(4,355)\\n5-star hotel\\nUpscale hotel with a rooftop pool & spa\\nSAR 904\\n  Pool\\nSpa\\nFree parking\\nFree Wi-Fi\\nHabtoor Grand Resort, Autograph Collection\\n4.4(5,046)\\n5-star hotel\\nUpscale resort with a private beach\\nSAR 894\\n  Pool\\nSpa\\nFree parking\\nFree Wi-Fi\\nAbout pricing\\nUpdate results when map moves'"
      ]
     },
     "execution_count": 24,
     "metadata": {},
     "output_type": "execute_result"
    }
   ],
   "source": [
    "results=search_results[0].text\n",
    "results"
   ]
  },
  {
   "cell_type": "markdown",
   "id": "1da9750c",
   "metadata": {},
   "source": [
    "# Extract Data using Regex"
   ]
  },
  {
   "cell_type": "code",
   "execution_count": 25,
   "id": "e2b1b9dc",
   "metadata": {},
   "outputs": [],
   "source": [
    "# using look ahead method. grab anything before \\n\\d+.\\d+\n",
    "hotel_names=re.findall(\".*?(?=\\n\\d+.\\d+[(\\d+,\\d+)])\",results)"
   ]
  },
  {
   "cell_type": "code",
   "execution_count": 28,
   "id": "24773ca8",
   "metadata": {},
   "outputs": [],
   "source": [
    "for i in range(0,len(hotel_names)):\n",
    "    if hotel_names[i]==\"\":\n",
    "        hotel_names.remove[i]"
   ]
  },
  {
   "cell_type": "code",
   "execution_count": 29,
   "id": "e7a08abe",
   "metadata": {},
   "outputs": [],
   "source": [
    "hotel_names=pd.Series(hotel_names, name='hotel_names')"
   ]
  },
  {
   "cell_type": "code",
   "execution_count": 30,
   "id": "5098be85",
   "metadata": {},
   "outputs": [],
   "source": [
    "star_rating=re.findall(\"\\d+-star\",results)\n",
    "star_rating=pd.Series(star_rating, name='star_rating')"
   ]
  },
  {
   "cell_type": "code",
   "execution_count": 31,
   "id": "97967edb",
   "metadata": {},
   "outputs": [],
   "source": [
    "# customer_rating\n",
    "customer_rating=re.findall(\".*?(?=[(]\\d+,\\d+[)]\\n\\d+-star)\",results)"
   ]
  },
  {
   "cell_type": "code",
   "execution_count": 34,
   "id": "f13d0f0a",
   "metadata": {},
   "outputs": [],
   "source": [
    "for i in range(0,len(customer_rating)):\n",
    "    if customer_rating[i]==\"\":\n",
    "        customer_rating.remove[i]"
   ]
  },
  {
   "cell_type": "code",
   "execution_count": 35,
   "id": "27c2caff",
   "metadata": {},
   "outputs": [],
   "source": [
    "customer_rating=pd.Series(customer_rating, name='customer_rating')"
   ]
  },
  {
   "cell_type": "code",
   "execution_count": 36,
   "id": "98fcf638",
   "metadata": {},
   "outputs": [],
   "source": [
    "num_of_reviews=re.findall(\"\\d+,\\d+\",results)\n",
    "num_of_reviews=pd.Series(num_of_reviews, name='num_of_reviews')"
   ]
  },
  {
   "cell_type": "code",
   "execution_count": 37,
   "id": "f8afdfd5",
   "metadata": {},
   "outputs": [],
   "source": [
    "# price_per_night\n",
    "price_per_night=re.findall(\"[\\n]SAR \\d+[\\n]\",results)\n",
    "price_per_night=re.findall(\"\\d+\",str(price_per_night))\n",
    "price_per_night=pd.Series(price_per_night, name='price_per_night')"
   ]
  },
  {
   "cell_type": "markdown",
   "id": "399b64b4",
   "metadata": {},
   "source": [
    "# Insert Extracted Data into a Readable Data Frame"
   ]
  },
  {
   "cell_type": "code",
   "execution_count": 38,
   "id": "92329d1e",
   "metadata": {},
   "outputs": [],
   "source": [
    "# create df\n",
    "df=pd.DataFrame(data=[hotel_names,star_rating,customer_rating,num_of_reviews,price_per_night])\n",
    "# transpose \n",
    "df=df.T"
   ]
  },
  {
   "cell_type": "markdown",
   "id": "cba5f11c",
   "metadata": {},
   "source": [
    "# Top 5 Hotles Sorted by Customer Rating"
   ]
  },
  {
   "cell_type": "code",
   "execution_count": 41,
   "id": "958692c8",
   "metadata": {},
   "outputs": [],
   "source": [
    "df=df.sort_values(['customer_rating'], ascending=False).head(5)\n",
    "df.reset_index(drop=True, inplace=True)"
   ]
  },
  {
   "cell_type": "code",
   "execution_count": 42,
   "id": "9a070e23",
   "metadata": {},
   "outputs": [
    {
     "data": {
      "text/html": [
       "<div>\n",
       "<style scoped>\n",
       "    .dataframe tbody tr th:only-of-type {\n",
       "        vertical-align: middle;\n",
       "    }\n",
       "\n",
       "    .dataframe tbody tr th {\n",
       "        vertical-align: top;\n",
       "    }\n",
       "\n",
       "    .dataframe thead th {\n",
       "        text-align: right;\n",
       "    }\n",
       "</style>\n",
       "<table border=\"1\" class=\"dataframe\">\n",
       "  <thead>\n",
       "    <tr style=\"text-align: right;\">\n",
       "      <th></th>\n",
       "      <th>hotel_names</th>\n",
       "      <th>star_rating</th>\n",
       "      <th>customer_rating</th>\n",
       "      <th>num_of_reviews</th>\n",
       "      <th>price_per_night</th>\n",
       "    </tr>\n",
       "  </thead>\n",
       "  <tbody>\n",
       "    <tr>\n",
       "      <th>0</th>\n",
       "      <td>Address Dubai Marina</td>\n",
       "      <td>5-star</td>\n",
       "      <td>4.7</td>\n",
       "      <td>4,355</td>\n",
       "      <td>904</td>\n",
       "    </tr>\n",
       "    <tr>\n",
       "      <th>1</th>\n",
       "      <td>Sofitel Dubai Jumeirah Beach</td>\n",
       "      <td>5-star</td>\n",
       "      <td>4.6</td>\n",
       "      <td>6,047</td>\n",
       "      <td>827</td>\n",
       "    </tr>\n",
       "    <tr>\n",
       "      <th>2</th>\n",
       "      <td>Hilton Dubai Jumeirah</td>\n",
       "      <td>5-star</td>\n",
       "      <td>4.5</td>\n",
       "      <td>2,899</td>\n",
       "      <td>806</td>\n",
       "    </tr>\n",
       "    <tr>\n",
       "      <th>3</th>\n",
       "      <td>JA Ocean View Hotel</td>\n",
       "      <td>5-star</td>\n",
       "      <td>4.5</td>\n",
       "      <td>3,056</td>\n",
       "      <td>658</td>\n",
       "    </tr>\n",
       "    <tr>\n",
       "      <th>4</th>\n",
       "      <td>Habtoor Grand Resort, Autograph Collection</td>\n",
       "      <td>5-star</td>\n",
       "      <td>4.4</td>\n",
       "      <td>5,046</td>\n",
       "      <td>894</td>\n",
       "    </tr>\n",
       "  </tbody>\n",
       "</table>\n",
       "</div>"
      ],
      "text/plain": [
       "                                  hotel_names star_rating customer_rating  \\\n",
       "0                        Address Dubai Marina      5-star             4.7   \n",
       "1                Sofitel Dubai Jumeirah Beach      5-star             4.6   \n",
       "2                       Hilton Dubai Jumeirah      5-star             4.5   \n",
       "3                         JA Ocean View Hotel      5-star             4.5   \n",
       "4  Habtoor Grand Resort, Autograph Collection      5-star             4.4   \n",
       "\n",
       "  num_of_reviews price_per_night  \n",
       "0          4,355             904  \n",
       "1          6,047             827  \n",
       "2          2,899             806  \n",
       "3          3,056             658  \n",
       "4          5,046             894  "
      ]
     },
     "execution_count": 42,
     "metadata": {},
     "output_type": "execute_result"
    }
   ],
   "source": [
    "df"
   ]
  }
 ],
 "metadata": {
  "kernelspec": {
   "display_name": "geo_env",
   "language": "python",
   "name": "geo_env"
  },
  "language_info": {
   "codemirror_mode": {
    "name": "ipython",
    "version": 3
   },
   "file_extension": ".py",
   "mimetype": "text/x-python",
   "name": "python",
   "nbconvert_exporter": "python",
   "pygments_lexer": "ipython3",
   "version": "3.10.4"
  }
 },
 "nbformat": 4,
 "nbformat_minor": 5
}
