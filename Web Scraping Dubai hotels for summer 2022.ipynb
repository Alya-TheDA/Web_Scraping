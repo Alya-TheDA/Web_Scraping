{
 "cells": [
  {
   "cell_type": "markdown",
   "id": "ce373070",
   "metadata": {},
   "source": [
    "# Web Scraping  Google Maps to Plan For an Upcoming Summer Trip !"
   ]
  },
  {
   "cell_type": "markdown",
   "id": "b05e6dcb",
   "metadata": {},
   "source": [
    "User Preferences:"
   ]
  },
  {
   "cell_type": "markdown",
   "id": "64021fff",
   "metadata": {},
   "source": [
    "- Search Dubai City"
   ]
  },
  {
   "cell_type": "markdown",
   "id": "9875a247",
   "metadata": {},
   "source": [
    "- Dates (sep 25th - Oct 1st)"
   ]
  },
  {
   "cell_type": "markdown",
   "id": "2c8fe51b",
   "metadata": {},
   "source": [
    "- 5 star rating"
   ]
  },
  {
   "cell_type": "markdown",
   "id": "f45ed8c9",
   "metadata": {},
   "source": [
    "- Property has a pool"
   ]
  },
  {
   "cell_type": "markdown",
   "id": "34ec9f4d",
   "metadata": {},
   "source": [
    "- Propertry located in the Dubai Marina area"
   ]
  },
  {
   "cell_type": "code",
   "execution_count": null,
   "id": "0590280d",
   "metadata": {},
   "outputs": [],
   "source": [
    "from selenium import webdriver\n",
    "from selenium.webdriver.support.ui import WebDriverWait\n",
    "from selenium.webdriver.common.by import By\n",
    "from selenium.webdriver.support import expected_conditions as EC\n",
    "from selenium.webdriver.common.action_chains import ActionChains\n",
    "from asyncio import sleep\n",
    "import time\n",
    "\n",
    "options = webdriver.ChromeOptions()\n",
    "options.add_argument('headless')\n",
    "driver = webdriver.Chrome(\"C:\\chromedriver_win32\\chromedriver\")\n",
    "wait = WebDriverWait(driver, 10)\n",
    "driver.get(\"https://www.google.com/maps\")\n",
    "\n",
    "# maximize browser window\n",
    "driver.maximize_window()\n",
    "# transelate page into english\n",
    "\n",
    "time.sleep(5)\n",
    "# menu button\n",
    "wait.until(EC.element_to_be_clickable((By.XPATH,\"\"\"//*[@id=\"omnibox-singlebox\"]/div[1]/div[1]/button\"\"\"))).click()\n",
    "\n",
    "time.sleep(2)\n",
    "# language button\n",
    "wait.until(EC.element_to_be_clickable((By.XPATH,\"\"\"//*[@id=\"settings\"]/div/div[2]/ul/div[7]/li[1]\"\"\"))).click()\n",
    "# English \n",
    "wait.until(EC.element_to_be_clickable((By.XPATH,\"\"\"//*[@id=\"languages\"]/div/div[2]/div[1]/ul/li/a\"\"\"))).click()\n",
    "\n",
    "\n",
    "time.sleep(2)\n",
    "\n",
    "# search for Dubai city \n",
    "wait.until(EC.element_to_be_clickable((By.ID, \"searchboxinput\"))).send_keys(\"Dubai\")\n",
    "wait.until(EC.element_to_be_clickable((By.ID, \"searchbox-searchbutton\"))).click()\n",
    "time.sleep(5)\n",
    "\n",
    "\n",
    "# filter by hotels\n",
    "action = ActionChains(driver)\n",
    "wait.until(EC.element_to_be_clickable((By.XPATH,\"\"\"//*[@id=\"assistive-chips\"]/div/div/div/div[1]/div/div/div/div/div[5]/div[2]/div[2]/div/button\"\"\"))).click()\n",
    "\n",
    "\n",
    "time.sleep(2)\n",
    "# select arrival date:\n",
    "\n",
    "# click on dates selector box\n",
    "wait.until(EC.element_to_be_clickable((By.XPATH,\"\"\"//*[@id=\"QA0Szd\"]/div/div/div[1]/div[2]/div/div[1]/div/div/div[2]/div[1]/div[1]/div[1]/div[2]/span\"\"\"))).click()\n",
    "# select Arrival date sep 1st 2022\n",
    "wait.until(EC.element_to_be_clickable((By.XPATH,\"\"\"//*[@id=\":s\"]\"\"\"))).click()\n",
    "\n",
    "# select departure date sep 8th 2022\n",
    "wait.until(EC.element_to_be_clickable((By.XPATH,\"\"\"//*[@id=\":24\"]\"\"\"))).click()\n",
    "\n",
    "\n",
    "time.sleep(5)\n",
    "# Expand top menu options\n",
    "wait.until(EC.element_to_be_clickable((By.XPATH,\"\"\"//*[@id=\"assistive-chips\"]/div/div/div/div[1]/div/div/div/div/div[6]/button/div\"\"\"))).click()\n",
    "\n",
    "time.sleep(2)\n",
    "# select All filters\n",
    "wait.until(EC.element_to_be_clickable((By.XPATH,\"\"\"//*[@id=\"assistive-chips\"]/div/div/div/div[1]/div/div/div/div/div[5]/div[2]/div[8]/div/button\"\"\"))).click()\n",
    "time.sleep(2)\n",
    "\n",
    "# select hotel rating\n",
    "wait.until(EC.element_to_be_clickable((By.XPATH,\"\"\"//*[@id=\"QA0Szd\"]/div/div/div[1]/div[2]/div/div[1]/div/div/div[2]/div[4]/div[2]/div[4]\"\"\"))).click()\n",
    "\n",
    "# select pool option\n",
    "time.sleep(7)\n",
    "wait.until(EC.element_to_be_clickable((By.XPATH,\"\"\"//*[@id=\"QA0Szd\"]/div/div/div[1]/div[2]/div/div[1]/div/div/div[2]/div[6]/div[2]/div[3]\"\"\"))).click()\n",
    "\n",
    "time.sleep(5)\n",
    "# scroll down to Neighborhoods\n",
    "neighborhoods=driver.find_element(By.XPATH,\"\"\"//*[@id=\"QA0Szd\"]/div/div/div[1]/div[2]/div/div[1]/div/div/div[2]/div[11]/div[1]\"\"\")\n",
    "action.scroll_to_element(neighborhoods).perform()\n",
    "\n",
    "time.sleep(6)\n",
    "# select Dubai Marina\n",
    "wait.until(EC.element_to_be_clickable((By.XPATH,\"\"\"//*[@id=\"QA0Szd\"]/div/div/div[1]/div[2]/div/div[1]/div/div/div[2]/div[11]/div[1]/div[1]\"\"\"))).click()\n",
    "\n",
    "# execute search selections ( hit Done button )\n",
    "time.sleep(7)\n",
    "wait.until(EC.element_to_be_clickable((By.XPATH,\"\"\"//*[@id=\"QA0Szd\"]/div/div/div[1]/div[2]/div/div[1]/div/div/div[1]/div[3]/button[2]/div\"\"\"))).click()\n",
    "\n",
    "# grab output\n",
    "time.sleep(7)\n",
    "search=driver.find_element(By.XPATH,\"\"\"//*[@id=\"QA0Szd\"]/div/div\"\"\")\n",
    "time.sleep(5)\n",
    "search_results=search.find_elements(By.XPATH,\"\"\"//*[@id=\"QA0Szd\"]/div/div/div[1]/div[2]/div/div[1]/div/div/div[3]\"\"\")\n",
    "\n",
    "\n",
    "#for item in search_results:\n",
    "#    print(item.text)"
   ]
  },
  {
   "cell_type": "markdown",
   "id": "b1a1e989",
   "metadata": {},
   "source": [
    "# Set up Text Manipulations"
   ]
  },
  {
   "cell_type": "code",
   "execution_count": 80,
   "id": "60ea55e5",
   "metadata": {},
   "outputs": [],
   "source": [
    "import re\n",
    "import pandas as pd"
   ]
  },
  {
   "cell_type": "code",
   "execution_count": 354,
   "id": "c14417ac",
   "metadata": {},
   "outputs": [
    {
     "data": {
      "text/plain": [
       "'Sort by\\nTravel restricted\\nThere is a government travel restriction for this destination related to coronavirus (COVID-19). Learn more\\nSofitel Dubai Jumeirah Beach\\n4.6(6,047)\\n5-star hotel\\nLuxe lodging with dining & a pool\\nSAR 824\\n  Pool\\nSpa\\nFree parking\\nFree Wi-Fi\\n  Popular with guests from Saudi Arabia\\nMövenpick Hotel Jumeirah Beach\\n4.4(4,151)\\n5-star hotel\\nModern high-rise with 2 bars & a pool\\nSAR 631\\n  Pool\\nSpa\\nFree parking\\nFree Wi-Fi\\n  Popular with guests from Saudi Arabia\\n  JA Ocean View Hotel\\n4.5(3,056)\\n5-star hotel\\nChic lodging with dining & a spa\\nSAR 657\\n  Pool\\nSpa\\nFree parking\\nFree Wi-Fi\\nHilton Dubai Jumeirah\\n4.5(2,890)\\n5-star hotel\\nSAR 806\\n  Pool\\nSpa\\nFree parking\\nFree Wi-Fi\\n  Address Dubai Marina\\n4.7(4,353)\\n5-star hotel\\nUpscale hotel with a rooftop pool & spa\\nSAR 904\\n  Pool\\nSpa\\nFree parking\\nFree Wi-Fi\\nHabtoor Grand Resort, Autograph Collection\\n4.4(5,046)\\n5-star hotel\\nUpscale resort with a private beach\\nSAR 892\\n  Pool\\nSpa\\nFree parking\\nFree Wi-Fi\\nSheraton Jumeirah Beach Resort\\n4.4(4,511)\\n5-star hotel\\nChic beachfront resort with dining\\nSAR 738\\n  Pool\\nSpa\\nFree parking\\nFree Wi-Fi\\n  Rixos Premium Dubai JBR\\n4.6(4,139)\\n5-star hotel\\nPosh hotel with a spa & a private beach\\nSAR 1,586\\n  Pool\\nSpa\\nFree parking\\nFree Wi-Fi\\nCrowne Plaza Dubai Marina, an IHG Hotel\\n4.6(740)\\n5-star hotel\\nPosh hotel with dining & marina views\\nSAR 751\\n  Pool\\nFree parking\\nFree Wi-Fi\\nAir-conditioned\\nAddress Beach Resort\\n4.6(2,147)\\n5-star hotel\\nLuxe beach resort with pools & a spa\\nSAR 1,899\\n  Pool\\nSpa\\nFree parking\\nFree Wi-Fi\\nInterContinental Dubai Marina, an IHG Hotel\\n4.5(3,261)\\n5-star hotel\\nHigh-end hotel with acclaimed dining\\nSAR 953\\n  Pool\\nSpa\\nFree parking\\nFree Wi-Fi\\nOne&Only Royal Mirage\\n4.7(418)\\n5-star hotel\\nSAR 2,386\\n  Pool\\nSpa\\nFree parking\\nFree Wi-Fi\\n  About pricing\\nUpdate results when map moves'"
      ]
     },
     "execution_count": 354,
     "metadata": {},
     "output_type": "execute_result"
    }
   ],
   "source": [
    "results=search_results[0].text\n",
    "results"
   ]
  },
  {
   "cell_type": "markdown",
   "id": "558ffc05",
   "metadata": {},
   "source": [
    "# Extract Data using Regex"
   ]
  },
  {
   "cell_type": "code",
   "execution_count": 355,
   "id": "4a293a77",
   "metadata": {},
   "outputs": [],
   "source": [
    "# using look ahead method. grab anything before \\n\\d+.\\d+\n",
    "hotel_names=re.findall(\".*?(?=\\n\\d+.\\d+[(\\d+,\\d+)])\",results)"
   ]
  },
  {
   "cell_type": "code",
   "execution_count": 358,
   "id": "166d3e39",
   "metadata": {},
   "outputs": [],
   "source": [
    "for i in range(0,len(hotel_names)):\n",
    "    if hotel_names[i]==\"\":\n",
    "        hotel_names.remove[i]"
   ]
  },
  {
   "cell_type": "code",
   "execution_count": 359,
   "id": "2361f187",
   "metadata": {},
   "outputs": [],
   "source": [
    "hotel_names=pd.Series(hotel_names, name='hotel_names')"
   ]
  },
  {
   "cell_type": "code",
   "execution_count": 360,
   "id": "716f583c",
   "metadata": {},
   "outputs": [],
   "source": [
    "star_rating=re.findall(\"\\d+-star\",results)\n",
    "star_rating=pd.Series(star_rating, name='star_rating')"
   ]
  },
  {
   "cell_type": "code",
   "execution_count": 361,
   "id": "7babe9e1",
   "metadata": {},
   "outputs": [],
   "source": [
    "# customer_rating\n",
    "customer_rating=re.findall(\".*?(?=[(]\\d+,\\d+[)]\\n\\d+-star)\",results)"
   ]
  },
  {
   "cell_type": "code",
   "execution_count": 364,
   "id": "51bb3a7d",
   "metadata": {},
   "outputs": [],
   "source": [
    "for i in range(0,len(customer_rating)):\n",
    "    if customer_rating[i]==\"\":\n",
    "        customer_rating.remove[i]"
   ]
  },
  {
   "cell_type": "code",
   "execution_count": 365,
   "id": "0c520242",
   "metadata": {},
   "outputs": [],
   "source": [
    "customer_rating=pd.Series(customer_rating, name='customer_rating')"
   ]
  },
  {
   "cell_type": "code",
   "execution_count": 366,
   "id": "97aaaf13",
   "metadata": {},
   "outputs": [],
   "source": [
    "num_of_reviews=re.findall(\"\\d+,\\d+\",results)\n",
    "num_of_reviews=pd.Series(num_of_reviews, name='num_of_reviews')"
   ]
  },
  {
   "cell_type": "code",
   "execution_count": 367,
   "id": "f6e0872f",
   "metadata": {},
   "outputs": [],
   "source": [
    "# price_per_night\n",
    "price_per_night=re.findall(\"[\\n]SAR \\d+[\\n]\",results)\n",
    "price_per_night=re.findall(\"\\d+\",str(price_per_night))\n",
    "price_per_night=pd.Series(price_per_night, name='price_per_night')"
   ]
  },
  {
   "cell_type": "markdown",
   "id": "182850b9",
   "metadata": {},
   "source": [
    "# Insert Extracted Data into a Readable Data Frame"
   ]
  },
  {
   "cell_type": "code",
   "execution_count": 368,
   "id": "29ebd389",
   "metadata": {},
   "outputs": [],
   "source": [
    "# create df\n",
    "df=pd.DataFrame(data=[hotel_names,star_rating,customer_rating,num_of_reviews,price_per_night])\n",
    "# transpose \n",
    "df=df.T"
   ]
  },
  {
   "cell_type": "markdown",
   "id": "ac478490",
   "metadata": {},
   "source": [
    "# Top 5 Hotles Sorted by Customer Rating"
   ]
  },
  {
   "cell_type": "code",
   "execution_count": 369,
   "id": "7ae9587a",
   "metadata": {},
   "outputs": [],
   "source": [
    "df=df.sort_values('customer_rating', ascending=False).head(5)\n",
    "df.reset_index(drop=True, inplace=True)"
   ]
  },
  {
   "cell_type": "code",
   "execution_count": 370,
   "id": "b66d89be",
   "metadata": {},
   "outputs": [
    {
     "data": {
      "text/html": [
       "<div>\n",
       "<style scoped>\n",
       "    .dataframe tbody tr th:only-of-type {\n",
       "        vertical-align: middle;\n",
       "    }\n",
       "\n",
       "    .dataframe tbody tr th {\n",
       "        vertical-align: top;\n",
       "    }\n",
       "\n",
       "    .dataframe thead th {\n",
       "        text-align: right;\n",
       "    }\n",
       "</style>\n",
       "<table border=\"1\" class=\"dataframe\">\n",
       "  <thead>\n",
       "    <tr style=\"text-align: right;\">\n",
       "      <th></th>\n",
       "      <th>hotel_names</th>\n",
       "      <th>star_rating</th>\n",
       "      <th>customer_rating</th>\n",
       "      <th>num_of_reviews</th>\n",
       "      <th>price_per_night</th>\n",
       "    </tr>\n",
       "  </thead>\n",
       "  <tbody>\n",
       "    <tr>\n",
       "      <th>0</th>\n",
       "      <td>Address Dubai Marina</td>\n",
       "      <td>5-star</td>\n",
       "      <td>4.7</td>\n",
       "      <td>4,353</td>\n",
       "      <td>904</td>\n",
       "    </tr>\n",
       "    <tr>\n",
       "      <th>1</th>\n",
       "      <td>Sofitel Dubai Jumeirah Beach</td>\n",
       "      <td>5-star</td>\n",
       "      <td>4.6</td>\n",
       "      <td>6,047</td>\n",
       "      <td>824</td>\n",
       "    </tr>\n",
       "    <tr>\n",
       "      <th>2</th>\n",
       "      <td>Rixos Premium Dubai JBR</td>\n",
       "      <td>5-star</td>\n",
       "      <td>4.6</td>\n",
       "      <td>4,139</td>\n",
       "      <td>751</td>\n",
       "    </tr>\n",
       "    <tr>\n",
       "      <th>3</th>\n",
       "      <td>Crowne Plaza Dubai Marina, an IHG Hotel</td>\n",
       "      <td>5-star</td>\n",
       "      <td>4.6</td>\n",
       "      <td>1,586</td>\n",
       "      <td>953</td>\n",
       "    </tr>\n",
       "    <tr>\n",
       "      <th>4</th>\n",
       "      <td>JA Ocean View Hotel</td>\n",
       "      <td>5-star</td>\n",
       "      <td>4.5</td>\n",
       "      <td>3,056</td>\n",
       "      <td>657</td>\n",
       "    </tr>\n",
       "  </tbody>\n",
       "</table>\n",
       "</div>"
      ],
      "text/plain": [
       "                               hotel_names star_rating customer_rating  \\\n",
       "0                     Address Dubai Marina      5-star             4.7   \n",
       "1             Sofitel Dubai Jumeirah Beach      5-star             4.6   \n",
       "2                  Rixos Premium Dubai JBR      5-star             4.6   \n",
       "3  Crowne Plaza Dubai Marina, an IHG Hotel      5-star             4.6   \n",
       "4                      JA Ocean View Hotel      5-star             4.5   \n",
       "\n",
       "  num_of_reviews price_per_night  \n",
       "0          4,353             904  \n",
       "1          6,047             824  \n",
       "2          4,139             751  \n",
       "3          1,586             953  \n",
       "4          3,056             657  "
      ]
     },
     "execution_count": 370,
     "metadata": {},
     "output_type": "execute_result"
    }
   ],
   "source": [
    "df"
   ]
  }
 ],
 "metadata": {
  "kernelspec": {
   "display_name": "geo_env",
   "language": "python",
   "name": "geo_env"
  },
  "language_info": {
   "codemirror_mode": {
    "name": "ipython",
    "version": 3
   },
   "file_extension": ".py",
   "mimetype": "text/x-python",
   "name": "python",
   "nbconvert_exporter": "python",
   "pygments_lexer": "ipython3",
   "version": "3.10.4"
  }
 },
 "nbformat": 4,
 "nbformat_minor": 5
}
